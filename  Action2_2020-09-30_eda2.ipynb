{
 "cells": [
  {
   "cell_type": "code",
   "execution_count": 18,
   "metadata": {},
   "outputs": [
    {
     "name": "stdout",
     "output_type": "stream",
     "text": [
      "    user_id    item_id  behavior_type user_geohash  item_category  \\\n",
      "0  10001082  285259775              1      97lk14c           4076   \n",
      "1  10001082    4368907              1          NaN           5503   \n",
      "2  10001082    4368907              1          NaN           5503   \n",
      "3  10001082   53616768              1          NaN           9762   \n",
      "4  10001082  151466952              1          NaN           5232   \n",
      "\n",
      "            time  \n",
      "0  2014-12-08 18  \n",
      "1  2014-12-12 12  \n",
      "2  2014-12-12 12  \n",
      "3  2014-12-02 15  \n",
      "4  2014-12-12 11  \n",
      "1    9421870\n",
      "3     285007\n",
      "2     193766\n",
      "4      99357\n",
      "Name: behavior_type, dtype: int64\n",
      "            user_id    item_id  behavior_type user_geohash  item_category  \\\n",
      "10000000  123265349  125559152              1      94h6g01          13712   \n",
      "10000001  123265349  222706509              1          NaN          14079   \n",
      "10000002  123265349  206001417              1      94h6g0q          13712   \n",
      "10000003  123265349  380984190              1      94h6g1d           2825   \n",
      "10000004  123265349  125559152              1      94h6g1k          13712   \n",
      "\n",
      "                   time  \n",
      "10000000  2014-11-18 21  \n",
      "10000001  2014-12-18 23  \n",
      "10000002  2014-11-21 22  \n",
      "10000003  2014-12-13 22  \n",
      "10000004  2014-11-18 21  \n",
      "1    9420875\n",
      "3     281713\n",
      "2     196988\n",
      "4     100424\n",
      "Name: behavior_type, dtype: int64\n",
      "           user_id    item_id  behavior_type user_geohash  item_category  \\\n",
      "20000000  26119669   34384544              1          NaN          13230   \n",
      "20000001  26119669  387236548              1          NaN          13230   \n",
      "20000002  26119669  387238081              1          NaN           5503   \n",
      "20000003  26119669  194697173              1          NaN          13230   \n",
      "20000004  26119669  132131748              1          NaN           3628   \n",
      "\n",
      "                   time  \n",
      "20000000  2014-11-29 13  \n",
      "20000001  2014-11-20 10  \n",
      "20000002  2014-11-28 23  \n",
      "20000003  2014-11-21 13  \n",
      "20000004  2014-11-26 12  \n",
      "1    3097775\n",
      "3      92717\n",
      "2      67737\n",
      "4      32798\n",
      "Name: behavior_type, dtype: int64\n",
      "CVR=0.9985776926023916%\n",
      "defaultdict(<class 'int'>, {'2014-11-18': 38975, '2014-11-19': 37946, '2014-11-20': 31190, '2014-11-21': 34332, '2014-11-22': 44292, '2014-11-23': 45996, '2014-11-24': 50286, '2014-11-25': 34633, '2014-11-26': 52354, '2014-11-27': 48774, '2014-11-28': 31820, '2014-11-29': 46399, '2014-11-30': 45061, '2014-12-01': 51243, '2014-12-02': 58256, '2014-12-03': 47804, '2014-12-04': 49587, '2014-12-05': 55002, '2014-12-06': 74782, '2014-12-07': 59015, '2014-12-08': 74486, '2014-12-09': 112568, '2014-12-10': 67052, '2014-12-11': 84981, '2014-12-12': 196311, '2014-12-13': 50908, '2014-12-14': 63408, '2014-12-15': 65368, '2014-12-16': 41771, '2014-12-17': 52855, '2014-12-18': 52106})\n",
      "defaultdict(<class 'int'>, {'2014-11-18': 35526, '2014-11-19': 36593, '2014-11-20': 40961, '2014-11-21': 30321, '2014-11-22': 64925, '2014-11-23': 50309, '2014-11-24': 52051, '2014-11-25': 32153, '2014-11-26': 37412, '2014-11-27': 29374, '2014-11-28': 44863, '2014-11-29': 47757, '2014-11-30': 53264, '2014-12-01': 38598, '2014-12-02': 51679, '2014-12-03': 64553, '2014-12-04': 40347, '2014-12-05': 47243, '2014-12-06': 50204, '2014-12-07': 50291, '2014-12-08': 62740, '2014-12-09': 73416, '2014-12-10': 51514, '2014-12-11': 101633, '2014-12-12': 173667, '2014-12-13': 55127, '2014-12-14': 54219, '2014-12-15': 72501, '2014-12-16': 62959, '2014-12-17': 85171, '2014-12-18': 62733})\n",
      "defaultdict(<class 'int'>, {'2014-11-18': 12231, '2014-11-19': 19974, '2014-11-20': 17857, '2014-11-21': 16408, '2014-11-22': 11916, '2014-11-23': 60948, '2014-11-24': 11632, '2014-11-25': 39315, '2014-11-26': 14091, '2014-11-27': 13112, '2014-11-28': 58969, '2014-11-29': 33841, '2014-11-30': 18742, '2014-12-01': 15081, '2014-12-02': 24674, '2014-12-03': 31927, '2014-12-04': 13211, '2014-12-05': 12575, '2014-12-06': 13464, '2014-12-07': 20527, '2014-12-08': 19996, '2014-12-09': 18487, '2014-12-10': 30928, '2014-12-11': 39198, '2014-12-12': 52330, '2014-12-13': 14185, '2014-12-14': 13157, '2014-12-15': 18788, '2014-12-16': 25707, '2014-12-17': 17770, '2014-12-18': 15256})\n"
     ]
    },
    {
     "data": {
      "image/png": "[encoded data removed]",
      "text/plain": [
       "<Figure size 432x288 with 1 Axes>"
      ]
     },
     "metadata": {
      "needs_background": "light"
     },
     "output_type": "display_data"
    },
    {
     "name": "stdout",
     "output_type": "stream",
     "text": [
      "{'2014-12-12 00': [11301, 156, 562, 540], '2014-12-12 01': [5208, 74, 160, 127], '2014-12-12 02': [2770, 45, 73, 75], '2014-12-12 03': [1739, 25, 52, 28], '2014-12-12 04': [1183, 8, 23, 19], '2014-12-12 05': [1408, 22, 57, 9], '2014-12-12 06': [3975, 44, 168, 96], '2014-12-12 07': [5162, 78, 163, 129], '2014-12-12 08': [6803, 177, 280, 192], '2014-12-12 09': [8016, 97, 286, 232], '2014-12-12 10': [8586, 129, 383, 235], '2014-12-12 11': [7785, 111, 311, 230], '2014-12-12 12': [7943, 132, 238, 189], '2014-12-12 13': [9183, 126, 350, 211], '2014-12-12 14': [7545, 147, 265, 141], '2014-12-12 15': [7278, 99, 279, 143], '2014-12-12 16': [6737, 169, 278, 149], '2014-12-12 17': [5231, 209, 203, 115], '2014-12-12 18': [6531, 240, 206, 117], '2014-12-12 19': [8921, 141, 314, 151], '2014-12-12 20': [11274, 190, 335, 170], '2014-12-12 21': [14171, 209, 417, 239], '2014-12-12 22': [12408, 174, 416, 204], '2014-12-12 23': [11372, 168, 534, 277]}\n"
     ]
    },
    {
     "data": {
      "image/png": "[encoded data removed]",
      "text/plain": [
       "<Figure size 432x288 with 1 Axes>"
      ]
     },
     "metadata": {
      "needs_background": "light"
     },
     "output_type": "display_data"
    }
   ],
   "source": [
    "\n",
    "import pandas as pd \n",
    "\n",
    "\n",
    "from collections import defaultdict\n",
    "from datetime import datetime, timedelta\n",
    "import matplotlib.pyplot as plt\n",
    "import gc\n",
    "\n",
    "\n",
    "#CVR的计算， 分成1O00W一批次去计算\n",
    "count_all, count_4= 0, 0\n",
    "dateparse = lambda dates: pd.datetime.strptime(dates, '%Y-%m-%d %H')\n",
    "\n",
    "for df in pd.read_csv(open('./tianchi_fresh_comp_train_user.csv','r'),\n",
    "                      chunksize = 10000000):\n",
    "    print(df.head())\n",
    "    print(df['behavior_type'].value_counts())\n",
    "    count_user = df['behavior_type'].value_counts()\n",
    "    count_all += count_user[1] +count_user[2] +count_user[3]+count_user[4]\n",
    "    count_4 +=count_user[4]\n",
    "    del df\n",
    "    gc.collect()\n",
    "\n",
    "\n",
    "cvr = count_4/count_all\n",
    "print('CVR={}%'.format(cvr*100))\n",
    "\n",
    "\n",
    "##31天周期的总数的趋势， 分成1O00W一批次去计算\n",
    "count_day = []\n",
    "df_p = pd.read_csv('./tianchi_fresh_comp_train_item.csv')\n",
    "\n",
    "for df in pd.read_csv(open('./tianchi_fresh_comp_train_user.csv','r'),\n",
    "                      chunksize = 10000000):\n",
    "    \n",
    "    df['time'] = pd.to_datetime(df['time'])\n",
    "    df.index = df['time']\n",
    "    df = pd.merge(df, df_p, on=['item_id']).set_index('time')\n",
    "    \n",
    "    count_day = defaultdict(int)\n",
    "    str1 = '2014-11-17'\n",
    "    temp_date = datetime.strptime(str1, '%Y-%m-%d')\n",
    "    delta = timedelta(days=1)\n",
    "    for i in range(31):\n",
    "        temp_date = temp_date + delta\n",
    "        temp_str = temp_date.strftime('%Y-%m-%d')\n",
    "        count_day[temp_str] += df[temp_str].shape[0]\n",
    "    print(count_day)\n",
    "    del df\n",
    "    gc.collect()\n",
    "\n",
    "    \n",
    "def show_count_day(count_day):    \n",
    "    df_count_day = pd.DataFrame.from_dict(count_day , orient= 'index', columns=['count'])\n",
    "    df_count_day['count'].plot(kind= 'bar')\n",
    "    plt.legend(loc='best')\n",
    "    plt.grid(True)\n",
    "    plt.show()\n",
    "\n",
    "show_count_day(count_day)\n",
    "\n",
    "\n",
    "#1天24个小时的总数的趋势，分成1O00W一批次去计算\n",
    "def show_count_hour(date1):\n",
    "    count_hour = {}\n",
    "    for df in pd.read_csv(open('./tianchi_fresh_comp_train_user.csv','r'),\n",
    "                      chunksize = 10000000):\n",
    "        df['time'] = pd.to_datetime(df['time'])\n",
    "        df.index = df['time']\n",
    "        for i in range(24):\n",
    "            time_str = date1 + ' %02.d' % i\n",
    "            count_hour[time_str] = [0,0,0,0]\n",
    "\n",
    "            temp = df[time_str]['behavior_type'].value_counts()\n",
    "            for j in range(len(temp)):\n",
    "                count_hour[time_str][temp.index[j]-1] += temp[temp.index[j]]\n",
    "        del df\n",
    "        gc.collect()\n",
    "    \n",
    "    print(count_hour)\n",
    "    df_count_hour = pd.DataFrame.from_dict(count_hour, orient='index')\n",
    "    df_count_hour.plot(kind='bar')\n",
    "    plt.legend(loc='best')\n",
    "    plt.grid(True)\n",
    "\n",
    "    \n",
    "show_count_hour('2014-12-12')\n"
   ]
  },
  {
   "cell_type": "code",
   "execution_count": null,
   "metadata": {},
   "outputs": [],
   "source": []
  }
 ],
 "metadata": {
  "kernelspec": {
   "display_name": "Python 3",
   "language": "python",
   "name": "python3"
  },
  "language_info": {
   "codemirror_mode": {
    "name": "ipython",
    "version": 3
   },
   "file_extension": ".py",
   "mimetype": "text/x-python",
   "name": "python",
   "nbconvert_exporter": "python",
   "pygments_lexer": "ipython3",
   "version": "3.8.3"
  }
 },
 "nbformat": 4,
 "nbformat_minor": 4
}
